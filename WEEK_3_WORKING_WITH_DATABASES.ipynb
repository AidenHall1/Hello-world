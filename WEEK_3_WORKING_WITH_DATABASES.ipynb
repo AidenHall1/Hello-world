{
  "nbformat": 4,
  "nbformat_minor": 0,
  "metadata": {
    "colab": {
      "name": "WEEK 3 WORKING WITH DATABASES",
      "provenance": [],
      "include_colab_link": true
    },
    "kernelspec": {
      "display_name": "Python 3",
      "name": "python3"
    }
  },
  "cells": [
    {
      "cell_type": "markdown",
      "metadata": {
        "id": "view-in-github",
        "colab_type": "text"
      },
      "source": [
        "<a href=\"https://colab.research.google.com/github/AidenHall1/Hello-world/blob/main/WEEK_3_WORKING_WITH_DATABASES.ipynb\" target=\"_parent\"><img src=\"https://colab.research.google.com/assets/colab-badge.svg\" alt=\"Open In Colab\"/></a>"
      ]
    },
    {
      "cell_type": "markdown",
      "metadata": {
        "id": "ATrLBWinTKCJ"
      },
      "source": [
        "# LAB 3: WORKING WITH DATABASES\n"
      ]
    },
    {
      "cell_type": "markdown",
      "metadata": {
        "id": "bH4FqkVLTWRU"
      },
      "source": [
        "## Introduction\n",
        "\n",
        "During this lab, we will experiment with using a few different libararies and modules to connect to and interact with an SQLite database. After creating and configuring our testing database, we will populate it with Fake data and run some queries to see what kind of information we can retreive. For context, we will be creating RSSN, the \"Really Simple Social Network\"."
      ]
    },
    {
      "cell_type": "markdown",
      "metadata": {
        "id": "YtugCh8QUPoi"
      },
      "source": [
        "## Creating a SQLite Database\n",
        "\n",
        "We will be utilizing the `sqlite3` library to create our database file, as it offers the convienience of creating our database file automatically in the event that it cannot find an existing file at the path specified.\n",
        "\n",
        "**Before you run the below code:**\n",
        "On the left of the notebook, select the file folder icon. Then, after you run the code block, you should be able to observe the creation of the database file. If it doesn't appear, try clicking the \"Refresh\" button above the list of folders."
      ]
    },
    {
      "cell_type": "code",
      "metadata": {
        "id": "pzyTkI5PPjib",
        "colab": {
          "base_uri": "https://localhost:8080/"
        },
        "outputId": "fd33d66f-9091-46c6-f7e0-d7d66b6ff365"
      },
      "source": [
        "import sqlite3\n",
        "\n",
        "#When we retreive a Connection object, a new database will be created for us if it doesn't already exist. \n",
        "myConnection = sqlite3.connect('social_network.db')\n",
        "print(sqlite3.version)"
      ],
      "execution_count": null,
      "outputs": [
        {
          "output_type": "stream",
          "name": "stdout",
          "text": [
            "2.6.0\n"
          ]
        }
      ]
    },
    {
      "cell_type": "markdown",
      "metadata": {
        "id": "gRxXXt8iVmAp"
      },
      "source": [
        "## Creating a Table\n"
      ]
    },
    {
      "cell_type": "markdown",
      "metadata": {
        "id": "plmEQRdNaDMe"
      },
      "source": [
        "We'll use the below code to create a table called `people` within our database. "
      ]
    },
    {
      "cell_type": "code",
      "metadata": {
        "colab": {
          "base_uri": "https://localhost:8080/"
        },
        "id": "uyjSS3cQVwFa",
        "outputId": "e189b35c-b13e-4915-d56f-ef1d43cbf644"
      },
      "source": [
        "import sqlite3\n",
        "\n",
        "#Retreive the Connection object\n",
        "myConnection = sqlite3.connect('social_network.db')\n",
        "\n",
        "#Once we have a Connection object, we can generate a Cursor object, and use that to run our SQL Queries\n",
        "myCursor = myConnection.cursor()\n",
        "\n",
        "#Let's define the SQL Query we will use to create our first table:\n",
        "createPeopleTable = \"\"\" CREATE TABLE IF NOT EXISTS people (\n",
        "                          id integer PRIMARY KEY,\n",
        "                          name text NOT NULL,\n",
        "                          email text NOT NULL,\n",
        "                          address text NOT NULL,\n",
        "                          city text NOT NULL,\n",
        "                          province text NOT NULL,\n",
        "                          country text NOT NULL,\n",
        "                          phone text,\n",
        "                          bio text,\n",
        "                          dob date NOT NULL,\n",
        "                          heatmap integer,\n",
        "                          created_at datetime NOT NULL,\n",
        "                          updated_at datetime NOT NULL,\n",
        "                          ipv4 text\n",
        "                        );\"\"\"\n",
        "\n",
        "#Now that we have the string to create our table,\n",
        "#Cursor objects have an execute() method which will accept an SQL string and perform the operations described.\n",
        "\n",
        "myCursor.execute(createPeopleTable)\n",
        "\n",
        "#We can confirm if our table was created successfully by running the following SQL Query\n",
        "#pragma_table_info is an internal SQLite function that will retun information about a table\n",
        "myCursor.execute(\"SELECT group_concat(name, ', ') FROM pragma_table_info('people')\")\n",
        "print(myCursor.fetchone())\n",
        "\n",
        "#We use to the commit() method on the database Connection object to persist our changes\n",
        "myConnection.commit()\n",
        "\n",
        "#It is always a good idea to close a connection when it will no longer be used\n",
        "myConnection.close()\n"
      ],
      "execution_count": null,
      "outputs": [
        {
          "output_type": "stream",
          "name": "stdout",
          "text": [
            "('id, name, email, address, city, province, country, phone, bio, dob, heatmap, created_at, updated_at, ipv4',)\n"
          ]
        }
      ]
    },
    {
      "cell_type": "markdown",
      "metadata": {
        "id": "5swGTtjga2qo"
      },
      "source": [
        "\n",
        "If you received a tuple containing the names of the columns, awesome! We have successfully created our database table.\n",
        "```\n",
        "('id, name, email, address, city, province, country, phone, bio, created_at, updated_at',)\n",
        "```\n",
        "\n",
        "Run the below code block to add our first entry."
      ]
    },
    {
      "cell_type": "code",
      "metadata": {
        "id": "ZSPqve9na7b8",
        "colab": {
          "base_uri": "https://localhost:8080/"
        },
        "outputId": "066b0125-5e3d-43d2-d0a6-2ce1d29c0c7b"
      },
      "source": [
        "import sqlite3\n",
        "from pprint import pprint #Outputs data in a slightly easier to read format\n",
        "from datetime import datetime #For generating dates and times\n",
        "\n",
        "#Retreive the Connection object\n",
        "myConnection = sqlite3.connect('social_network.db')\n",
        "\n",
        "#Once we have a Connection object, we can generate a Cursor object, and use that to run our SQL Queries\n",
        "myCursor = myConnection.cursor()\n",
        "\n",
        "#Let's define the SQL Query we will use to create our first entry:\n",
        "addPersonQuery = \"\"\"INSERT INTO people (name, \n",
        "                      email, \n",
        "                      address, \n",
        "                      city, \n",
        "                      province, \n",
        "                      country, \n",
        "                      phone, \n",
        "                      bio,\n",
        "                      dob,\n",
        "                      heatmap,\n",
        "                      created_at, \n",
        "                      updated_at, \n",
        "                      ipv4)\n",
        "                  VALUES (?, ?, ?, ?, ?, ?, ?, ?, ?, ?, ?, ?, ?);\"\"\"\n",
        "\n",
        "\"\"\"\n",
        "The ?'s are placeholders that we can fill in when we use the execute() method.\n",
        "This is really handy for code reuse, as we can pass those values are variables in a tuple\n",
        "Instead of hard coding them into the statement.\n",
        "\"\"\"\n",
        "\n",
        "myPerson = (\"John Doe\", \n",
        "            \"johndoe@anon.null\", \n",
        "            \"123 Fake St.\", \n",
        "            \"Fakesville\", \n",
        "            \"Fakesdom\", \n",
        "            \"Fakopolis\", \n",
        "            None, \n",
        "            None,\n",
        "            \"1967-09-12\",\n",
        "            0,\n",
        "            datetime.now(), \n",
        "            datetime.now(),\n",
        "            None)\n",
        "\n",
        "myCursor.execute(addPersonQuery, myPerson)\n",
        "\n",
        "#We can confirm if our table was created successfully by running the following SQL Query\n",
        "#pragma_table_info is an internal SQLite function that will retun information about a table\n",
        "myCursor.execute(\"SELECT * FROM people\")\n",
        "pprint(myCursor.fetchall())\n",
        "\n",
        "# If you run this code block a few times, you will see that you only have 1 entry,\n",
        "# If you uncomment the below lines and run the block a few more times, you will begin to see multiple entries.\n",
        "# myConnection.commit()\n",
        "# myConnection.close()"
      ],
      "execution_count": null,
      "outputs": [
        {
          "output_type": "stream",
          "name": "stdout",
          "text": [
            "[(1,\n",
            "  'John Doe',\n",
            "  'johndoe@anon.null',\n",
            "  '123 Fake St.',\n",
            "  'Fakesville',\n",
            "  'Fakesdom',\n",
            "  'Fakopolis',\n",
            "  None,\n",
            "  None,\n",
            "  '1967-09-12',\n",
            "  0,\n",
            "  '2022-02-18 00:25:12.466718',\n",
            "  '2022-02-18 00:25:12.466727',\n",
            "  None)]\n"
          ]
        }
      ]
    },
    {
      "cell_type": "code",
      "metadata": {
        "id": "blL9pzRCgrMP"
      },
      "source": [
        ""
      ],
      "execution_count": null,
      "outputs": []
    },
    {
      "cell_type": "markdown",
      "metadata": {
        "id": "BTZ00Zscgrus"
      },
      "source": [
        "# Lab Submission"
      ]
    },
    {
      "cell_type": "markdown",
      "source": [
        "# New Section"
      ],
      "metadata": {
        "id": "2Y9in5H171Gv"
      }
    },
    {
      "cell_type": "markdown",
      "metadata": {
        "id": "rN93XC6xgvwP"
      },
      "source": [
        "We're going to build our experience with working with Libraries and examining documentation by populating our 'People' table with data provided to us by the `Faker` library. `Faker` is used to generate fake data and is very helpful for the rapid generation of databases for the purposes of testing. Run the two blocks below to install faker and get an idea of what it can do."
      ]
    },
    {
      "cell_type": "code",
      "metadata": {
        "id": "CejUXkoRhPik",
        "colab": {
          "base_uri": "https://localhost:8080/"
        },
        "outputId": "9227147a-f433-467f-fb54-905ebf31642f"
      },
      "source": [
        "!pip install faker"
      ],
      "execution_count": null,
      "outputs": [
        {
          "output_type": "stream",
          "name": "stdout",
          "text": [
            "Collecting faker\n",
            "  Downloading Faker-13.0.0-py3-none-any.whl (1.5 MB)\n",
            "\u001b[?25l\r\u001b[K     |▏                               | 10 kB 20.7 MB/s eta 0:00:01\r\u001b[K     |▍                               | 20 kB 21.6 MB/s eta 0:00:01\r\u001b[K     |▋                               | 30 kB 24.9 MB/s eta 0:00:01\r\u001b[K     |▉                               | 40 kB 27.5 MB/s eta 0:00:01\r\u001b[K     |█                               | 51 kB 10.1 MB/s eta 0:00:01\r\u001b[K     |█▎                              | 61 kB 11.7 MB/s eta 0:00:01\r\u001b[K     |█▌                              | 71 kB 9.3 MB/s eta 0:00:01\r\u001b[K     |█▊                              | 81 kB 8.0 MB/s eta 0:00:01\r\u001b[K     |██                              | 92 kB 8.9 MB/s eta 0:00:01\r\u001b[K     |██▏                             | 102 kB 9.6 MB/s eta 0:00:01\r\u001b[K     |██▍                             | 112 kB 9.6 MB/s eta 0:00:01\r\u001b[K     |██▋                             | 122 kB 9.6 MB/s eta 0:00:01\r\u001b[K     |██▉                             | 133 kB 9.6 MB/s eta 0:00:01\r\u001b[K     |███                             | 143 kB 9.6 MB/s eta 0:00:01\r\u001b[K     |███▎                            | 153 kB 9.6 MB/s eta 0:00:01\r\u001b[K     |███▌                            | 163 kB 9.6 MB/s eta 0:00:01\r\u001b[K     |███▊                            | 174 kB 9.6 MB/s eta 0:00:01\r\u001b[K     |████                            | 184 kB 9.6 MB/s eta 0:00:01\r\u001b[K     |████▏                           | 194 kB 9.6 MB/s eta 0:00:01\r\u001b[K     |████▍                           | 204 kB 9.6 MB/s eta 0:00:01\r\u001b[K     |████▋                           | 215 kB 9.6 MB/s eta 0:00:01\r\u001b[K     |████▉                           | 225 kB 9.6 MB/s eta 0:00:01\r\u001b[K     |█████                           | 235 kB 9.6 MB/s eta 0:00:01\r\u001b[K     |█████▎                          | 245 kB 9.6 MB/s eta 0:00:01\r\u001b[K     |█████▌                          | 256 kB 9.6 MB/s eta 0:00:01\r\u001b[K     |█████▊                          | 266 kB 9.6 MB/s eta 0:00:01\r\u001b[K     |██████                          | 276 kB 9.6 MB/s eta 0:00:01\r\u001b[K     |██████▏                         | 286 kB 9.6 MB/s eta 0:00:01\r\u001b[K     |██████▍                         | 296 kB 9.6 MB/s eta 0:00:01\r\u001b[K     |██████▋                         | 307 kB 9.6 MB/s eta 0:00:01\r\u001b[K     |██████▉                         | 317 kB 9.6 MB/s eta 0:00:01\r\u001b[K     |███████                         | 327 kB 9.6 MB/s eta 0:00:01\r\u001b[K     |███████▎                        | 337 kB 9.6 MB/s eta 0:00:01\r\u001b[K     |███████▌                        | 348 kB 9.6 MB/s eta 0:00:01\r\u001b[K     |███████▊                        | 358 kB 9.6 MB/s eta 0:00:01\r\u001b[K     |████████                        | 368 kB 9.6 MB/s eta 0:00:01\r\u001b[K     |████████▏                       | 378 kB 9.6 MB/s eta 0:00:01\r\u001b[K     |████████▍                       | 389 kB 9.6 MB/s eta 0:00:01\r\u001b[K     |████████▋                       | 399 kB 9.6 MB/s eta 0:00:01\r\u001b[K     |████████▉                       | 409 kB 9.6 MB/s eta 0:00:01\r\u001b[K     |█████████                       | 419 kB 9.6 MB/s eta 0:00:01\r\u001b[K     |█████████▎                      | 430 kB 9.6 MB/s eta 0:00:01\r\u001b[K     |█████████▌                      | 440 kB 9.6 MB/s eta 0:00:01\r\u001b[K     |█████████▊                      | 450 kB 9.6 MB/s eta 0:00:01\r\u001b[K     |██████████                      | 460 kB 9.6 MB/s eta 0:00:01\r\u001b[K     |██████████▏                     | 471 kB 9.6 MB/s eta 0:00:01\r\u001b[K     |██████████▍                     | 481 kB 9.6 MB/s eta 0:00:01\r\u001b[K     |██████████▋                     | 491 kB 9.6 MB/s eta 0:00:01\r\u001b[K     |██████████▉                     | 501 kB 9.6 MB/s eta 0:00:01\r\u001b[K     |███████████                     | 512 kB 9.6 MB/s eta 0:00:01\r\u001b[K     |███████████▎                    | 522 kB 9.6 MB/s eta 0:00:01\r\u001b[K     |███████████▌                    | 532 kB 9.6 MB/s eta 0:00:01\r\u001b[K     |███████████▊                    | 542 kB 9.6 MB/s eta 0:00:01\r\u001b[K     |████████████                    | 552 kB 9.6 MB/s eta 0:00:01\r\u001b[K     |████████████▏                   | 563 kB 9.6 MB/s eta 0:00:01\r\u001b[K     |████████████▍                   | 573 kB 9.6 MB/s eta 0:00:01\r\u001b[K     |████████████▋                   | 583 kB 9.6 MB/s eta 0:00:01\r\u001b[K     |████████████▉                   | 593 kB 9.6 MB/s eta 0:00:01\r\u001b[K     |█████████████                   | 604 kB 9.6 MB/s eta 0:00:01\r\u001b[K     |█████████████▎                  | 614 kB 9.6 MB/s eta 0:00:01\r\u001b[K     |█████████████▌                  | 624 kB 9.6 MB/s eta 0:00:01\r\u001b[K     |█████████████▊                  | 634 kB 9.6 MB/s eta 0:00:01\r\u001b[K     |██████████████                  | 645 kB 9.6 MB/s eta 0:00:01\r\u001b[K     |██████████████▏                 | 655 kB 9.6 MB/s eta 0:00:01\r\u001b[K     |██████████████▍                 | 665 kB 9.6 MB/s eta 0:00:01\r\u001b[K     |██████████████▋                 | 675 kB 9.6 MB/s eta 0:00:01\r\u001b[K     |██████████████▉                 | 686 kB 9.6 MB/s eta 0:00:01\r\u001b[K     |███████████████                 | 696 kB 9.6 MB/s eta 0:00:01\r\u001b[K     |███████████████▎                | 706 kB 9.6 MB/s eta 0:00:01\r\u001b[K     |███████████████▍                | 716 kB 9.6 MB/s eta 0:00:01\r\u001b[K     |███████████████▋                | 727 kB 9.6 MB/s eta 0:00:01\r\u001b[K     |███████████████▉                | 737 kB 9.6 MB/s eta 0:00:01\r\u001b[K     |████████████████                | 747 kB 9.6 MB/s eta 0:00:01\r\u001b[K     |████████████████▎               | 757 kB 9.6 MB/s eta 0:00:01\r\u001b[K     |████████████████▌               | 768 kB 9.6 MB/s eta 0:00:01\r\u001b[K     |████████████████▊               | 778 kB 9.6 MB/s eta 0:00:01\r\u001b[K     |█████████████████               | 788 kB 9.6 MB/s eta 0:00:01\r\u001b[K     |█████████████████▏              | 798 kB 9.6 MB/s eta 0:00:01\r\u001b[K     |█████████████████▍              | 808 kB 9.6 MB/s eta 0:00:01\r\u001b[K     |█████████████████▋              | 819 kB 9.6 MB/s eta 0:00:01\r\u001b[K     |█████████████████▉              | 829 kB 9.6 MB/s eta 0:00:01\r\u001b[K     |██████████████████              | 839 kB 9.6 MB/s eta 0:00:01\r\u001b[K     |██████████████████▎             | 849 kB 9.6 MB/s eta 0:00:01\r\u001b[K     |██████████████████▌             | 860 kB 9.6 MB/s eta 0:00:01\r\u001b[K     |██████████████████▊             | 870 kB 9.6 MB/s eta 0:00:01\r\u001b[K     |███████████████████             | 880 kB 9.6 MB/s eta 0:00:01\r\u001b[K     |███████████████████▏            | 890 kB 9.6 MB/s eta 0:00:01\r\u001b[K     |███████████████████▍            | 901 kB 9.6 MB/s eta 0:00:01\r\u001b[K     |███████████████████▋            | 911 kB 9.6 MB/s eta 0:00:01\r\u001b[K     |███████████████████▉            | 921 kB 9.6 MB/s eta 0:00:01\r\u001b[K     |████████████████████            | 931 kB 9.6 MB/s eta 0:00:01\r\u001b[K     |████████████████████▎           | 942 kB 9.6 MB/s eta 0:00:01\r\u001b[K     |████████████████████▌           | 952 kB 9.6 MB/s eta 0:00:01\r\u001b[K     |████████████████████▊           | 962 kB 9.6 MB/s eta 0:00:01\r\u001b[K     |█████████████████████           | 972 kB 9.6 MB/s eta 0:00:01\r\u001b[K     |█████████████████████▏          | 983 kB 9.6 MB/s eta 0:00:01\r\u001b[K     |█████████████████████▍          | 993 kB 9.6 MB/s eta 0:00:01\r\u001b[K     |█████████████████████▋          | 1.0 MB 9.6 MB/s eta 0:00:01\r\u001b[K     |█████████████████████▉          | 1.0 MB 9.6 MB/s eta 0:00:01\r\u001b[K     |██████████████████████          | 1.0 MB 9.6 MB/s eta 0:00:01\r\u001b[K     |██████████████████████▎         | 1.0 MB 9.6 MB/s eta 0:00:01\r\u001b[K     |██████████████████████▌         | 1.0 MB 9.6 MB/s eta 0:00:01\r\u001b[K     |██████████████████████▊         | 1.1 MB 9.6 MB/s eta 0:00:01\r\u001b[K     |███████████████████████         | 1.1 MB 9.6 MB/s eta 0:00:01\r\u001b[K     |███████████████████████▏        | 1.1 MB 9.6 MB/s eta 0:00:01\r\u001b[K     |███████████████████████▍        | 1.1 MB 9.6 MB/s eta 0:00:01\r\u001b[K     |███████████████████████▋        | 1.1 MB 9.6 MB/s eta 0:00:01\r\u001b[K     |███████████████████████▉        | 1.1 MB 9.6 MB/s eta 0:00:01\r\u001b[K     |████████████████████████        | 1.1 MB 9.6 MB/s eta 0:00:01\r\u001b[K     |████████████████████████▎       | 1.1 MB 9.6 MB/s eta 0:00:01\r\u001b[K     |████████████████████████▌       | 1.1 MB 9.6 MB/s eta 0:00:01\r\u001b[K     |████████████████████████▊       | 1.1 MB 9.6 MB/s eta 0:00:01\r\u001b[K     |█████████████████████████       | 1.2 MB 9.6 MB/s eta 0:00:01\r\u001b[K     |█████████████████████████▏      | 1.2 MB 9.6 MB/s eta 0:00:01\r\u001b[K     |█████████████████████████▍      | 1.2 MB 9.6 MB/s eta 0:00:01\r\u001b[K     |█████████████████████████▋      | 1.2 MB 9.6 MB/s eta 0:00:01\r\u001b[K     |█████████████████████████▉      | 1.2 MB 9.6 MB/s eta 0:00:01\r\u001b[K     |██████████████████████████      | 1.2 MB 9.6 MB/s eta 0:00:01\r\u001b[K     |██████████████████████████▎     | 1.2 MB 9.6 MB/s eta 0:00:01\r\u001b[K     |██████████████████████████▌     | 1.2 MB 9.6 MB/s eta 0:00:01\r\u001b[K     |██████████████████████████▊     | 1.2 MB 9.6 MB/s eta 0:00:01\r\u001b[K     |███████████████████████████     | 1.2 MB 9.6 MB/s eta 0:00:01\r\u001b[K     |███████████████████████████▏    | 1.3 MB 9.6 MB/s eta 0:00:01\r\u001b[K     |███████████████████████████▍    | 1.3 MB 9.6 MB/s eta 0:00:01\r\u001b[K     |███████████████████████████▋    | 1.3 MB 9.6 MB/s eta 0:00:01\r\u001b[K     |███████████████████████████▉    | 1.3 MB 9.6 MB/s eta 0:00:01\r\u001b[K     |████████████████████████████    | 1.3 MB 9.6 MB/s eta 0:00:01\r\u001b[K     |████████████████████████████▎   | 1.3 MB 9.6 MB/s eta 0:00:01\r\u001b[K     |████████████████████████████▌   | 1.3 MB 9.6 MB/s eta 0:00:01\r\u001b[K     |████████████████████████████▊   | 1.3 MB 9.6 MB/s eta 0:00:01\r\u001b[K     |█████████████████████████████   | 1.3 MB 9.6 MB/s eta 0:00:01\r\u001b[K     |█████████████████████████████▏  | 1.4 MB 9.6 MB/s eta 0:00:01\r\u001b[K     |█████████████████████████████▍  | 1.4 MB 9.6 MB/s eta 0:00:01\r\u001b[K     |█████████████████████████████▋  | 1.4 MB 9.6 MB/s eta 0:00:01\r\u001b[K     |█████████████████████████████▉  | 1.4 MB 9.6 MB/s eta 0:00:01\r\u001b[K     |██████████████████████████████  | 1.4 MB 9.6 MB/s eta 0:00:01\r\u001b[K     |██████████████████████████████▎ | 1.4 MB 9.6 MB/s eta 0:00:01\r\u001b[K     |██████████████████████████████▌ | 1.4 MB 9.6 MB/s eta 0:00:01\r\u001b[K     |██████████████████████████████▋ | 1.4 MB 9.6 MB/s eta 0:00:01\r\u001b[K     |██████████████████████████████▉ | 1.4 MB 9.6 MB/s eta 0:00:01\r\u001b[K     |███████████████████████████████ | 1.4 MB 9.6 MB/s eta 0:00:01\r\u001b[K     |███████████████████████████████▎| 1.5 MB 9.6 MB/s eta 0:00:01\r\u001b[K     |███████████████████████████████▌| 1.5 MB 9.6 MB/s eta 0:00:01\r\u001b[K     |███████████████████████████████▊| 1.5 MB 9.6 MB/s eta 0:00:01\r\u001b[K     |████████████████████████████████| 1.5 MB 9.6 MB/s eta 0:00:01\r\u001b[K     |████████████████████████████████| 1.5 MB 9.6 MB/s \n",
            "\u001b[?25hRequirement already satisfied: typing-extensions>=3.10.0.2 in /usr/local/lib/python3.7/dist-packages (from faker) (3.10.0.2)\n",
            "Requirement already satisfied: python-dateutil>=2.4 in /usr/local/lib/python3.7/dist-packages (from faker) (2.8.2)\n",
            "Requirement already satisfied: six>=1.5 in /usr/local/lib/python3.7/dist-packages (from python-dateutil>=2.4->faker) (1.15.0)\n",
            "Installing collected packages: faker\n",
            "Successfully installed faker-13.0.0\n"
          ]
        }
      ]
    },
    {
      "cell_type": "code",
      "metadata": {
        "id": "vO2Uhcwrhw8-"
      },
      "source": [
        "from faker import Faker\n",
        "\n",
        "fake = Faker()\n",
        "\n"
      ],
      "execution_count": null,
      "outputs": []
    },
    {
      "cell_type": "markdown",
      "metadata": {
        "id": "IsYIsSvRjmiG"
      },
      "source": [
        "Very cool! Faker has tons of `providers` that can all be used to populate fake data. The [list of providers](https://faker.readthedocs.io/en/stable/providers.html) in the Faker documentation will help you fill out the columns for our People table.\n",
        "\n",
        "The goal of this script is to populate the people table with 1000 entries, with the following constraints:\n",
        "\n",
        "1. The `heatmap` column must contain a random number between `999` and `2500`\n",
        "2. The `created_at` and `updated_at` columns must use the `datetime` object (see examples above) \n",
        "2. Use `Faker` to generate all other fields.\n",
        "\n",
        "*Hint: Each of the methods contained in the provider can be called directly from the base Faker object, for example, one can call the `file_name()` method from `faker.providers.file` by calling `Faker().file_name()`*"
      ]
    },
    {
      "cell_type": "code",
      "metadata": {
        "id": "Yi-fE0uUlor4"
      },
      "source": [
        "import sqlite3\n",
        "from faker import Faker\n",
        "from datetime import datetime \n",
        "import random \n",
        "#For generating dates and times\n",
        "#Don't forget to import the module to generate random numbers!\n",
        "\n",
        "#Retreive the Connection object\n",
        "myConnection = sqlite3.connect('social_network.db')\n",
        "\n",
        "#Once we have a Connection object, we can generate a Cursor object, and use that to run our SQL Queries\n",
        "myCursor = myConnection.cursor()\n",
        "\n",
        "#This is the same syntax as the above example:\n",
        "addPersonQuery = \"\"\"INSERT INTO people (name, \n",
        "                      email, \n",
        "                      address, \n",
        "                      city, \n",
        "                      province, \n",
        "                      country, \n",
        "                      phone, \n",
        "                      bio,\n",
        "                      dob,\n",
        "                      heatmap,\n",
        "                      created_at, \n",
        "                      updated_at, \n",
        "                      ipv4)\n",
        "                  VALUES (?, ?, ?, ?, ?, ?, ?, ?, ?, ?, ?, ?, ?);\"\"\"\n",
        "\n",
        "fake = Faker()\n",
        "\n",
        "prov = [\"Alberta\", \"British Columbia\", \"Manitoba\", \"New Brunswick\", \"Newfoundland and Labrador\", \"Nova Scotia\", \"Ontario\", \"Quebec\", \"Saskatchewan\"]\n",
        "\n",
        "for myPerson in range(1000):\n",
        "  myPerson = (fake.name(), \n",
        "            fake.ascii_company_email(), \n",
        "            fake.street_address(), \n",
        "            fake.city(), \n",
        "            random.choice(prov), \n",
        "            fake.country(), \n",
        "            fake.phone_number(),  \n",
        "            fake.sentence(nb_words=6),\n",
        "            fake.date(),\n",
        "            fake.random_int(min=999, max=2500),\n",
        "            datetime.now(), \n",
        "            datetime.now(),\n",
        "            fake.ipv4())\n",
        " \n",
        "     \n",
        "  myCursor.execute(addPersonQuery, myPerson)\n",
        "  print(myPerson)\n",
        "myCursor.execute(\"SELECT * FROM people\")\n",
        "print(myCursor.fetchall())\n",
        "myConnection.commit()\n",
        "myConnection.close()\n",
        "\n",
        "#Ideally, you will want to create a loop that will iterate 1000 times,\n",
        "#Observe the example in the earlier code block showing the parameter tuple `myPerson`\n",
        "#You can duplicate that inside your loop and replace those fields with calls to the appropriate faker provider method\n",
        "#Execute your statement inside the loop,\n",
        "#But, don't forget to commit and close your connection when you have finished!"
      ],
      "execution_count": null,
      "outputs": []
    },
    {
      "cell_type": "markdown",
      "metadata": {
        "id": "mVEgfYArnITl"
      },
      "source": [
        "Finally, the last step,\n",
        "Using the code block below, combined with what you have learned above, and the Lecture notes,\n",
        "Craft a SQL Query that will return the `name` of no more than `20` `people` with a `heatmap` greater than `1500`"
      ]
    },
    {
      "cell_type": "code",
      "metadata": {
        "id": "oN6wSS9roOP6",
        "colab": {
          "base_uri": "https://localhost:8080/"
        },
        "outputId": "df0e6835-89cd-4bcb-be75-6bd531c34794"
      },
      "source": [
        "import sqlite3\n",
        "import pprint\n",
        "#Retreive the Connection object\n",
        "myConnection = sqlite3.connect('social_network.db')\n",
        "\n",
        "#Once we have a Connection object, we can generate a Cursor object, and use that to run our SQL Queries\n",
        "myCursor = myConnection.cursor()\n",
        "\n",
        "selectStatement = \"\"\"SELECT name from people \n",
        "                      WHERE heatmap > 1500 \n",
        "                     LIMIT 20 \n",
        "                        \"\"\"\n",
        "\n",
        "myCursor.execute( selectStatement )\n",
        "results = myCursor.fetchall()\n",
        "print(results)"
      ],
      "execution_count": null,
      "outputs": [
        {
          "output_type": "stream",
          "name": "stdout",
          "text": [
            "[('Nicholas Oliver',), ('William Acevedo',), ('Michael Simpson',), ('Christopher Gutierrez',), ('Elizabeth Davis',), ('Ronald Brown',), ('Erika Park',), ('Martha Fuller',), ('Grant Ball',), ('Joshua Wheeler',), ('Jonathan Daniels',), ('Michelle Jones',), ('Carrie Wilson',), ('Colleen Gilbert',), ('Emily Richardson',), ('Charles Cherry',), ('Erik Nelson',), ('Lauren Jackson',), ('Christopher Lewis',), ('Michael Montgomery',)]\n"
          ]
        }
      ]
    },
    {
      "cell_type": "code",
      "source": [
        "import sqlite3\n",
        "\n",
        "#Retreive the Connection object, rename the file to match your uploaded DB if necessary.\n",
        "myConnection = sqlite3.connect('social_network.db')\n",
        "\n",
        "#Once we have a Connection object, we can generate a Cursor object, and use that to run our SQL Queries\n",
        "myCursor = myConnection.cursor()\n",
        "\n",
        "#The Primary Key column has been provided for you,\n",
        "#Replace '#!...' with the remaining column names, datatypes, and foreign key declarations.\n",
        "#Use the Lecture notes and the previous lab if you are unsure.\n",
        "createRelationshipsTable = \"\"\"CREATE TABLE IF NOT EXISTS relationships (\n",
        "                          id integer PRIMARY KEY NOT NULL,\n",
        "                          user_id integer NOT NULL, \n",
        "                          friend_id integer NOT NULL, \n",
        "                          FOREIGN KEY (user_id) REFERENCES people (id),\n",
        "                          FOREIGN KEY (friend_id) REFERENCES people (id)\n",
        "                        );\"\"\"\n",
        "\n",
        "#Once again, we will execute the query, persist the changes, and close our connection.\n",
        "myCursor.execute(createRelationshipsTable)\n",
        "myConnection.commit()\n",
        "myConnection.close()"
      ],
      "metadata": {
        "id": "NYyAPIGSjOS6"
      },
      "execution_count": 20,
      "outputs": []
    },
    {
      "cell_type": "code",
      "source": [
        "import sqlite3\n",
        "from datetime import datetime #For generating dates and times\n",
        "from random import randrange #For generating random numbers within a range\n",
        "\n",
        "#Retreive the Connection object, rename the file to match your uploaded DB if necessary.\n",
        "myConnection = sqlite3.connect('social_network.db')\n",
        "\n",
        "#Once we have a Connection object, we can generate a Cursor object, and use that to run our SQL Queries\n",
        "myCursor = myConnection.cursor()\n",
        "\n",
        "#Complete the below query\n",
        "Query =  \"\"\"INSERT INTO relationships (user_id, friend_id)\n",
        "            VALUES (?, ?);\n",
        "              \"\"\"\n",
        "\n",
        "for _ in range(1000):\n",
        "  user_id = randrange(1, 1001)\n",
        "  friend_id = user_id\n",
        "\n",
        "  while friend_id == user_id:\n",
        "    friend_id = randrange(1, 1001)\n",
        "  args = (user_id, friend_id)\n",
        "  \n",
        "  #Populate the arguments that will be used in the query\n",
        "  \n",
        "  #Execute the query\n",
        "  myCursor.execute(Query, args)\n",
        "\n",
        "#Commit your changes and close the connection.\n",
        "myConnection.commit()\n",
        "myConnection.close()\n"
      ],
      "metadata": {
        "id": "FSf-qLgQjVlw"
      },
      "execution_count": 21,
      "outputs": []
    },
    {
      "cell_type": "code",
      "source": [
        "import sqlite3\n",
        "import pprint\n",
        "#Retreive the Connection object\n",
        "myConnection = sqlite3.connect('social_network.db')\n",
        "\n",
        "#Once we have a Connection object, we can generate a Cursor object, and use that to run our SQL Queries\n",
        "myCursor = myConnection.cursor()\n",
        "\n",
        "selectStatement = \"\"\"SELECT * from relationships\n",
        "                      \n",
        "                     LIMIT 20 \n",
        "                        \"\"\"\n",
        "\n",
        "myCursor.execute( selectStatement )\n",
        "results = myCursor.fetchall()\n",
        "print(results)"
      ],
      "metadata": {
        "colab": {
          "base_uri": "https://localhost:8080/"
        },
        "id": "PuWjbKIwjgah",
        "outputId": "5ba40eb9-2383-48e6-81b3-eadd450d5cf4"
      },
      "execution_count": 22,
      "outputs": [
        {
          "output_type": "stream",
          "name": "stdout",
          "text": [
            "[(1, 406, 465), (2, 376, 344), (3, 970, 129), (4, 130, 230), (5, 777, 930), (6, 658, 596), (7, 601, 818), (8, 900, 780), (9, 757, 822), (10, 452, 586), (11, 873, 363), (12, 319, 378), (13, 474, 71), (14, 951, 427), (15, 141, 624), (16, 58, 43), (17, 923, 217), (18, 428, 556), (19, 692, 175), (20, 211, 489)]\n"
          ]
        }
      ]
    },
    {
      "cell_type": "code",
      "source": [
        ""
      ],
      "metadata": {
        "id": "tkSj4iW8jls9"
      },
      "execution_count": null,
      "outputs": []
    },
    {
      "cell_type": "code",
      "source": [
        "import sqlite3\n",
        "from pprint import pprint \n",
        "#Retreive the Connection object, rename the file to match your uploaded DB if necessary.\n",
        "myConnection = sqlite3.connect('social_network.db')\n",
        "\n",
        "#Once we have a Connection object, we can generate a Cursor object, and use that to run our SQL Queries\n",
        "myCursor = myConnection.cursor()\n",
        "#people\n",
        "\n",
        "query =  \"\"\"SELECT people.name, COUNT(relationships.friend_id) FROM relationships\n",
        "            LEFT JOIN people ON relationships.user_id = people.id\n",
        "            GROUP by relationships.user_id\n",
        "            \n",
        "         \"\"\"\n",
        "\n",
        "myCursor.execute(query)\n",
        "results = myCursor.fetchall()\n",
        "pprint(results)\n",
        "\n",
        "\n",
        "file = open('reprot.txt', mode='w')\n",
        "for result in results:\n",
        " \n",
        "  \n",
        "\n",
        "  file.write(\"people /n + relationships.user_id\")\n",
        "  print(file)\n",
        "\n",
        "file.close()\n",
        "\n",
        "\n",
        "\n",
        "  #You will want to write the results to the file pointer here.\n",
        "  #Use the newline character \\n to create a line break in each write() statement.\n",
        "  #Use print() statements as sanity checks if you are unsure of the integrity of your data.\n",
        "\n",
        "#Don't forget to close the file pointer after you have finished!"
      ],
      "metadata": {
        "colab": {
          "base_uri": "https://localhost:8080/",
          "height": 130
        },
        "id": "ZiU1eTWYj4Kn",
        "outputId": "8bb5fdad-abde-4f7d-8e13-f5f7dccdc1eb"
      },
      "execution_count": 67,
      "outputs": [
        {
          "output_type": "error",
          "ename": "SyntaxError",
          "evalue": "ignored",
          "traceback": [
            "\u001b[0;36m  File \u001b[0;32m\"<ipython-input-67-84adc74c9166>\"\u001b[0;36m, line \u001b[0;32m21\u001b[0m\n\u001b[0;31m    file = open('C:\\Users\\aiden\\OneDrive\\reprot.txt', mode='w')\u001b[0m\n\u001b[0m               ^\u001b[0m\n\u001b[0;31mSyntaxError\u001b[0m\u001b[0;31m:\u001b[0m (unicode error) 'unicodeescape' codec can't decode bytes in position 2-3: truncated \\UXXXXXXXX escape\n"
          ]
        }
      ]
    },
    {
      "cell_type": "code",
      "source": [
        ""
      ],
      "metadata": {
        "id": "42Xi77uGi_fQ"
      },
      "execution_count": null,
      "outputs": []
    },
    {
      "cell_type": "markdown",
      "metadata": {
        "id": "qwNrP7FfpJg2"
      },
      "source": [
        "Your submission will contain, as usual, a link to your completed colab notebook, but in addition to that, you will download a copy of your social_network.db file and upload it to D2L. To download the file, right click it from the Files menu on the left of the Notebook."
      ]
    }
  ]
}